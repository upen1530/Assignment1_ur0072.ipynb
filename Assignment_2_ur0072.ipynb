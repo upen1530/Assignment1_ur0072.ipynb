{
  "nbformat": 4,
  "nbformat_minor": 0,
  "metadata": {
    "colab": {
      "provenance": [],
      "authorship_tag": "ABX9TyOv8A4uzI6D8ObY59Tl0D+0",
      "include_colab_link": true
    },
    "kernelspec": {
      "name": "python3",
      "display_name": "Python 3"
    },
    "language_info": {
      "name": "python"
    }
  },
  "cells": [
    {
      "cell_type": "markdown",
      "metadata": {
        "id": "view-in-github",
        "colab_type": "text"
      },
      "source": [
        "<a href=\"https://colab.research.google.com/github/upen1530/Assignment1_ur0072.ipynb/blob/main/Assignment_2_ur0072.ipynb\" target=\"_parent\"><img src=\"https://colab.research.google.com/assets/colab-badge.svg\" alt=\"Open In Colab\"/></a>"
      ]
    },
    {
      "cell_type": "code",
      "execution_count": 1,
      "metadata": {
        "colab": {
          "base_uri": "https://localhost:8080/"
        },
        "id": "wJoNARAtrGqD",
        "outputId": "2bc85275-98cc-48a6-f8c6-c362f0c32e9a"
      },
      "outputs": [
        {
          "output_type": "stream",
          "name": "stdout",
          "text": [
            "Full list: ['apple', 'banana', 'orange']\n",
            "Each item separately:\n",
            "apple\n",
            "banana\n",
            "orange\n"
          ]
        }
      ],
      "source": [
        "# 1. Fruits list\n",
        "fruits = [\"apple\", \"banana\", \"orange\"]\n",
        "print(\"Full list:\", fruits)\n",
        "print(\"Each item separately:\")\n",
        "for fruit in fruits:\n",
        "    print(fruit)"
      ]
    },
    {
      "cell_type": "code",
      "source": [
        "# 2. Names list\n",
        "names = [\"Ali\", \"Sara\", \"Mehdi\", \"Reza\"]\n",
        "names[0] = \"Omar\"   # Change the first name\n",
        "print(\"Updated names list:\", names)\n"
      ],
      "metadata": {
        "colab": {
          "base_uri": "https://localhost:8080/"
        },
        "id": "Wdw038IYrmwA",
        "outputId": "7f57065e-5a4f-459a-9195-46897ed4397a"
      },
      "execution_count": 2,
      "outputs": [
        {
          "output_type": "stream",
          "name": "stdout",
          "text": [
            "Updated names list: ['Omar', 'Sara', 'Mehdi', 'Reza']\n"
          ]
        }
      ]
    },
    {
      "cell_type": "code",
      "source": [
        "# 3. Vehicles list\n",
        "vehicles = [\"car\", \"bus\", \"bike\", \"truck\", \"scooter\"]\n",
        "vehicles.append(\"train\")\n",
        "print(\"Vehicles list with new item:\", vehicles)\n"
      ],
      "metadata": {
        "colab": {
          "base_uri": "https://localhost:8080/"
        },
        "id": "fg2HgcA6rrv_",
        "outputId": "278a3d9f-1851-4d28-a354-8d62ca91f893"
      },
      "execution_count": 3,
      "outputs": [
        {
          "output_type": "stream",
          "name": "stdout",
          "text": [
            "Vehicles list with new item: ['car', 'bus', 'bike', 'truck', 'scooter', 'train']\n"
          ]
        }
      ]
    },
    {
      "cell_type": "code",
      "source": [
        "# 4. Foods list\n",
        "foods = [\"pizza\", \"burger\", \"pasta\", \"rice\", \"salad\", \"sandwich\"]\n",
        "foods.remove(\"pasta\")\n",
        "print(\"Foods list after removal:\", foods)\n"
      ],
      "metadata": {
        "colab": {
          "base_uri": "https://localhost:8080/"
        },
        "id": "UPz8S_-1rtQI",
        "outputId": "acb284c1-e90d-442a-8deb-8e2842325661"
      },
      "execution_count": 4,
      "outputs": [
        {
          "output_type": "stream",
          "name": "stdout",
          "text": [
            "Foods list after removal: ['pizza', 'burger', 'rice', 'salad', 'sandwich']\n"
          ]
        }
      ]
    },
    {
      "cell_type": "code",
      "source": [
        "# 5. Cities list\n",
        "cities = [\"Paris\", \"London\", \"Tokyo\", \"New York\"]\n",
        "cities.sort()\n",
        "print(\"Sorted cities:\", cities)\n",
        "cities.reverse()\n",
        "print(\"Reversed cities:\", cities)\n"
      ],
      "metadata": {
        "colab": {
          "base_uri": "https://localhost:8080/"
        },
        "id": "tbzf5yMPr0A4",
        "outputId": "8db78a8a-5805-4e1a-a49e-0966ea53216d"
      },
      "execution_count": 5,
      "outputs": [
        {
          "output_type": "stream",
          "name": "stdout",
          "text": [
            "Sorted cities: ['London', 'New York', 'Paris', 'Tokyo']\n",
            "Reversed cities: ['Tokyo', 'Paris', 'New York', 'London']\n"
          ]
        }
      ]
    },
    {
      "cell_type": "code",
      "source": [
        "# 6. Animals list\n",
        "animals = [\"cat\", \"dog\", \"lion\"]\n",
        "print(\"Animals:\")\n",
        "for animal in animals:\n",
        "    print(animal)\n"
      ],
      "metadata": {
        "colab": {
          "base_uri": "https://localhost:8080/"
        },
        "id": "9-iMULanr1EB",
        "outputId": "395bf90f-3bcd-4157-d05a-7d8ae976f868"
      },
      "execution_count": 6,
      "outputs": [
        {
          "output_type": "stream",
          "name": "stdout",
          "text": [
            "Animals:\n",
            "cat\n",
            "dog\n",
            "lion\n"
          ]
        }
      ]
    },
    {
      "cell_type": "code",
      "source": [
        "# 7. Numbers list multiplied by 2\n",
        "numbers = [1, 2, 3, 4, 5]\n",
        "print(\"Numbers multiplied by 2:\")\n",
        "for num in numbers:\n",
        "    print(num * 2)\n"
      ],
      "metadata": {
        "colab": {
          "base_uri": "https://localhost:8080/"
        },
        "id": "zVCvdNWqr305",
        "outputId": "7c17697e-103d-4635-bb2f-2bfe93e7df8a"
      },
      "execution_count": 7,
      "outputs": [
        {
          "output_type": "stream",
          "name": "stdout",
          "text": [
            "Numbers multiplied by 2:\n",
            "2\n",
            "4\n",
            "6\n",
            "8\n",
            "10\n"
          ]
        }
      ]
    },
    {
      "cell_type": "code",
      "source": [
        "# 8. Friends list\n",
        "friends = [\"Alice\", \"Bob\", \"Charlie\", \"David\", \"Eve\", \"Frank\"]\n",
        "print(\"First three friends:\", friends[:3])\n",
        "print(\"Last three friends:\", friends[-3:])\n"
      ],
      "metadata": {
        "colab": {
          "base_uri": "https://localhost:8080/"
        },
        "id": "Eqp9C3lXr7J7",
        "outputId": "28dc5fd3-7571-49fb-e7b5-f03d72cc98e3"
      },
      "execution_count": 8,
      "outputs": [
        {
          "output_type": "stream",
          "name": "stdout",
          "text": [
            "First three friends: ['Alice', 'Bob', 'Charlie']\n",
            "Last three friends: ['David', 'Eve', 'Frank']\n"
          ]
        }
      ]
    },
    {
      "cell_type": "code",
      "source": [
        "# 9. Range list 1 to 10\n",
        "range_list = list(range(1, 11))\n",
        "print(\"List of numbers 1 to 10:\", range_list)\n"
      ],
      "metadata": {
        "colab": {
          "base_uri": "https://localhost:8080/"
        },
        "id": "-m2EYyQOr-iX",
        "outputId": "0a1157ff-cdba-4c34-b9ed-08ff8113af8b"
      },
      "execution_count": 9,
      "outputs": [
        {
          "output_type": "stream",
          "name": "stdout",
          "text": [
            "List of numbers 1 to 10: [1, 2, 3, 4, 5, 6, 7, 8, 9, 10]\n"
          ]
        }
      ]
    },
    {
      "cell_type": "code",
      "source": [
        "# 10. Squares using list comprehension\n",
        "squares = [x**2 for x in range(1, 6)]\n",
        "print(\"Squares from 1 to 5:\", squares)"
      ],
      "metadata": {
        "colab": {
          "base_uri": "https://localhost:8080/"
        },
        "id": "0zQKiGIfsB5r",
        "outputId": "62301b3d-cca7-4a5c-8f87-fe313709c03b"
      },
      "execution_count": 10,
      "outputs": [
        {
          "output_type": "stream",
          "name": "stdout",
          "text": [
            "Squares from 1 to 5: [1, 4, 9, 16, 25]\n"
          ]
        }
      ]
    }
  ]
}