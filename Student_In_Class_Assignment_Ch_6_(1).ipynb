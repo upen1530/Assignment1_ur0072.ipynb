{
  "nbformat": 4,
  "nbformat_minor": 0,
  "metadata": {
    "colab": {
      "provenance": [],
      "include_colab_link": true
    },
    "kernelspec": {
      "name": "python3",
      "display_name": "Python 3"
    },
    "language_info": {
      "name": "python"
    }
  },
  "cells": [
    {
      "cell_type": "markdown",
      "metadata": {
        "id": "view-in-github",
        "colab_type": "text"
      },
      "source": [
        "<a href=\"https://colab.research.google.com/github/upen1530/Assignment1_ur0072.ipynb/blob/main/Student_In_Class_Assignment_Ch_6_(1).ipynb\" target=\"_parent\"><img src=\"https://colab.research.google.com/assets/colab-badge.svg\" alt=\"Open In Colab\"/></a>"
      ]
    },
    {
      "cell_type": "markdown",
      "source": [
        "### ✅ Final Class Exercise: Library Borrowing (using key-value)\n",
        "You are given a dictionary that shows how many books each student has borrowed. Write a Python program to:\n",
        "1.  Print the names of students who borrowed more than 2 books.\n",
        "2. calculate the total number of borrowed books.\n"
      ],
      "metadata": {
        "id": "p337feJZG6g0"
      }
    },
    {
      "cell_type": "code",
      "source": [
        "borrowed_books = {\n",
        "    'Ali': 1,\n",
        "    'Sara': 3,\n",
        "    'Reza': 0,\n",
        "    'Lina': 4,\n",
        "    'Omid': 2\n",
        "}\n",
        "\n",
        "\n",
        "\n",
        "# write your answer here part 1\n",
        "print(\"Students who borrowed more than 2 books:\")\n",
        "for name, count in borrowed_books.items():\n",
        "    if count > 2:\n",
        "        print(name)\n",
        "\n",
        "# write your answer here part 2\n",
        "total_books = sum(borrowed_books.values())\n",
        "print(\"\\n Total number of borrowed books:\", total_books)\n",
        "\n",
        "\n",
        "\n",
        "\n",
        "\n",
        "\n",
        "\n",
        "\n",
        "\n"
      ],
      "metadata": {
        "id": "OibWnbqOG_cX",
        "colab": {
          "base_uri": "https://localhost:8080/"
        },
        "outputId": "a3e3e71f-d672-4326-ec64-f3ec989f069b"
      },
      "execution_count": 2,
      "outputs": [
        {
          "output_type": "stream",
          "name": "stdout",
          "text": [
            "Students who borrowed more than 2 books:\n",
            "Sara\n",
            "Lina\n",
            "\n",
            " Total number of borrowed books: 10\n"
          ]
        }
      ]
    }
  ]
}