{
  "nbformat": 4,
  "nbformat_minor": 0,
  "metadata": {
    "colab": {
      "provenance": [],
      "include_colab_link": true
    },
    "kernelspec": {
      "name": "python3",
      "display_name": "Python 3"
    },
    "language_info": {
      "name": "python"
    }
  },
  "cells": [
    {
      "cell_type": "markdown",
      "metadata": {
        "id": "view-in-github",
        "colab_type": "text"
      },
      "source": [
        "<a href=\"https://colab.research.google.com/github/upen1530/Assignment1_ur0072.ipynb/blob/main/Student_In_Class_Assignment_Ch_7_(1).ipynb\" target=\"_parent\"><img src=\"https://colab.research.google.com/assets/colab-badge.svg\" alt=\"Open In Colab\"/></a>"
      ]
    },
    {
      "cell_type": "markdown",
      "source": [
        "#Write a Python program that simulates a self-checkout system.**\n",
        "Use this price list: prices: apple= 1 ,  bread= 2.5 ,  milk=5 ,  egg= 6\n",
        "\n",
        "Program requirements:\n",
        "\n",
        "The program should repeatedly ask the user to enter an item name or enter \"pay\".\n",
        "\n",
        "\n",
        "• Valid inputs are the names of the **items above ** or the word \"pay\".\n",
        "\n",
        "\n",
        "If the entered item exists in the price list:\n",
        "\n",
        "• Add its price to the running total.\n",
        "\n",
        "\n",
        "• Print the message: \"Added , running total: $\".\n",
        "\n",
        "\n",
        "If the entered item does not exist in the price list:\n",
        "\n",
        "• Print \"Item not found\".\n",
        "\n",
        "If the user types \"pay\":\n",
        "\n",
        "• Stop asking for input.\n",
        "\n",
        "Show the following three values:\n",
        "\n",
        "\n",
        "**Subtotal: the sum of all valid items entered.**\n",
        "\n",
        "**Tax: 8% of the subtotal. (0.08 * total)**\n",
        "\n",
        "**Final total: subtotal + tax.**\n",
        "\n",
        "\n",
        "Run your program with this purchase list. For example, for one person whose purchase is:apple, pizza, bread, pay *italicised text*"
      ],
      "metadata": {
        "id": "t1xs1X02Owtz"
      }
    },
    {
      "cell_type": "code",
      "execution_count": 2,
      "metadata": {
        "id": "nTH6mvq1OqHP",
        "colab": {
          "base_uri": "https://localhost:8080/"
        },
        "outputId": "76e2f2fe-9ed9-404d-8d9e-82e226fa452e"
      },
      "outputs": [
        {
          "output_type": "stream",
          "name": "stdout",
          "text": [
            "Enter item (or 'pay' to finish): apple\n",
            "Added apple, running total: $1.00\n",
            "Enter item (or 'pay' to finish): bread\n",
            "Added bread, running total: $3.50\n",
            "Enter item (or 'pay' to finish): milk\n",
            "Added milk, running total: $8.50\n",
            "Enter item (or 'pay' to finish): eggs\n",
            "Item not found\n",
            "Enter item (or 'pay' to finish): pay\n",
            "\n",
            "--- Receipt ---\n",
            "Subtotal: $8.50\n",
            "Tax (8%): $0.68\n",
            "Final total: $9.18\n"
          ]
        }
      ],
      "source": [
        "# write your code here# Price list\n",
        "prices = {\n",
        "    \"apple\": 1.0,\n",
        "    \"bread\": 2.5,\n",
        "    \"milk\": 5.0,\n",
        "    \"egg\": 6.0\n",
        "}\n",
        "\n",
        "subtotal = 0.0  # keeps track of total before tax\n",
        "\n",
        "while True:\n",
        "    item = input(\"Enter item (or 'pay' to finish): \").strip().lower()\n",
        "\n",
        "    if item == \"pay\":\n",
        "        break\n",
        "    elif item in prices:\n",
        "        subtotal += prices[item]\n",
        "        print(f\"Added {item}, running total: ${subtotal:.2f}\")\n",
        "    else:\n",
        "        print(\"Item not found\")\n",
        "\n",
        "# After payment\n",
        "tax = subtotal * 0.08\n",
        "final_total = subtotal + tax\n",
        "\n",
        "print(\"\\n--- Receipt ---\")\n",
        "print(f\"Subtotal: ${subtotal:.2f}\")\n",
        "print(f\"Tax (8%): ${tax:.2f}\")\n",
        "print(f\"Final total: ${final_total:.2f}\")\n"
      ]
    }
  ]
}