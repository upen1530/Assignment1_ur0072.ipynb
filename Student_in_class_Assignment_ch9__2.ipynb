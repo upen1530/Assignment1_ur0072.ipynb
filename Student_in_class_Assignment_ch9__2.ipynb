{
  "nbformat": 4,
  "nbformat_minor": 0,
  "metadata": {
    "colab": {
      "provenance": [],
      "include_colab_link": true
    },
    "kernelspec": {
      "name": "python3",
      "display_name": "Python 3"
    },
    "language_info": {
      "name": "python"
    }
  },
  "cells": [
    {
      "cell_type": "markdown",
      "metadata": {
        "id": "view-in-github",
        "colab_type": "text"
      },
      "source": [
        "<a href=\"https://colab.research.google.com/github/upen1530/Assignment1_ur0072.ipynb/blob/main/Student_in_class_Assignment_ch9__2.ipynb\" target=\"_parent\"><img src=\"https://colab.research.google.com/assets/colab-badge.svg\" alt=\"Open In Colab\"/></a>"
      ]
    },
    {
      "cell_type": "markdown",
      "source": [
        "create a class called InventoryItem that represents a single product in stock — for example, an apple in a grocery store. The class keeps track of the product’s name, price, quantity, and minimum stock level (the level where we might need to reorder).\n",
        "\n",
        "......\n",
        "\n",
        "When you store the attributes, convert types as follows:\n",
        "\n",
        "• name → str(name)\n",
        "\n",
        "• price → float(price)\n",
        "\n",
        "• quantity → int(quantity) (default 0)\n",
        "\n",
        "• min_stock → int(min_stock) (default 0)\n",
        "\n",
        "Validation:\n",
        "\n",
        "• If any of price, quantity, or min_stock is negative, raise ValueError with a clear message.\n",
        "\n",
        "......\n",
        "\n",
        "Methods to implement\n",
        "\n",
        "restock(self, qty)\n",
        "• If qty is negative, raise ValueError.\n",
        "\n",
        "• Otherwise, increase quantity by qty.\n",
        "\n",
        "sell(self, qty)\n",
        "• If qty is not positive (≤ 0), raise ValueError.\n",
        "\n",
        "• If there is enough stock (self.quantity >= qty), decrease quantity by qty and return True.\n",
        "\n",
        "• Otherwise, return False (do not change quantity).\n",
        "\n",
        "value(self)\n",
        "• Return the total value of this item in stock:\n",
        "\n",
        "price * quantity (a float).\n",
        "\n",
        "repr(self)\n",
        "Provide a readable text description of the object when printed.\n",
        "\n",
        "return (f\"InventoryItem(name={self.name}, price={self.price}, \" f\"qty={self.quantity}, min_stock={self.min_stock})\")\n",
        "\n",
        "........\n",
        "\n",
        "• Return a developer-friendly string that shows all fields, for example: InventoryItem(name='Apple', price=0.5, quantity=3, min_stock=1)"
      ],
      "metadata": {
        "id": "vW98iSj6mCjt"
      }
    },
    {
      "cell_type": "code",
      "source": [
        "class InventoryItem:\n",
        "    def __init__(self, name, price, quantity=0, min_stock=0):\n",
        "        # Convert to required types\n",
        "        self.name = str(name)\n",
        "        self.price = float(price)\n",
        "        self.quantity = int(quantity)\n",
        "        self.min_stock = int(min_stock)\n",
        "\n",
        "        # Validation\n",
        "        if self.price < 0:\n",
        "            raise ValueError(\"Price cannot be negative.\")\n",
        "        if self.quantity < 0:\n",
        "            raise ValueError(\"Quantity cannot be negative.\")\n",
        "        if self.min_stock < 0:\n",
        "            raise ValueError(\"Minimum stock cannot be negative.\")\n",
        "\n",
        "    def restock(self, qty):\n",
        "        \"\"\"Increase quantity by qty (qty must be >= 0).\"\"\"\n",
        "        if qty < 0:\n",
        "            raise ValueError(\"Restock quantity cannot be negative.\")\n",
        "        self.quantity += int(qty)\n",
        "\n",
        "    def sell(self, qty):\n",
        "        \"\"\"Attempt to sell qty items. Return True if successful, else False.\"\"\"\n",
        "        qty = int(qty)\n",
        "        if qty <= 0:\n",
        "            raise ValueError(\"Sell quantity must be positive.\")\n",
        "        if self.quantity >= qty:\n",
        "            self.quantity -= qty\n",
        "            return True\n",
        "        return False\n",
        "\n",
        "    def value(self):\n",
        "        \"\"\"Total value of this item in stock.\"\"\"\n",
        "        return self.price * self.quantity\n",
        "\n",
        "    def __repr__(self):\n",
        "        # Developer-friendly string (what you asked for)\n",
        "        return (f\"InventoryItem(name='{self.name}', price={self.price}, \"\n",
        "                f\"quantity={self.quantity}, min_stock={self.min_stock})\")\n",
        "\n",
        "\n",
        "# ----------------------------\n",
        "# Quick demo (runs if file is executed directly)\n",
        "# ----------------------------\n",
        "if __name__ == \"__main__\":\n",
        "    # Create an item\n",
        "    apple = InventoryItem(\"Apple\", 0.5, 10, 3)\n",
        "    print(apple)  # InventoryItem(name='Apple', price=0.5, quantity=10, min_stock=3)\n",
        "\n",
        "    # Restock\n",
        "    apple.restock(5)\n",
        "    print(\"After restock, qty:\", apple.quantity)  # 15\n",
        "\n",
        "    # Sell (success)\n",
        "    ok = apple.sell(4)\n",
        "    print(\"Sell 4 ok?\", ok, \"| qty:\", apple.quantity)  # True | 11\n",
        "\n",
        "    # Sell (fail: not enough)\n",
        "    ok = apple.sell(1000)\n",
        "    print(\"Sell 1000 ok?\", ok, \"| qty:\", apple.quantity)  # False | 11\n",
        "\n",
        "    # Value\n",
        "    print(\"Value:\", apple.value())  # 5.5\n"
      ],
      "metadata": {
        "colab": {
          "base_uri": "https://localhost:8080/"
        },
        "id": "O6vyOkofvHgl",
        "outputId": "e47fa1d3-2a88-4bc8-a1e2-13b6ba38fdfc"
      },
      "execution_count": 4,
      "outputs": [
        {
          "output_type": "stream",
          "name": "stdout",
          "text": [
            "InventoryItem(name='Apple', price=0.5, quantity=10, min_stock=3)\n",
            "After restock, qty: 15\n",
            "Sell 4 ok? True | qty: 11\n",
            "Sell 1000 ok? False | qty: 11\n",
            "Value: 5.5\n"
          ]
        }
      ]
    }
  ]
}