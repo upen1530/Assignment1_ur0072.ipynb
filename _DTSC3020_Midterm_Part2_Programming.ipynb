{
  "cells": [
    {
      "cell_type": "markdown",
      "metadata": {
        "id": "view-in-github",
        "colab_type": "text"
      },
      "source": [
        "<a href=\"https://colab.research.google.com/github/upen1530/Assignment1_ur0072.ipynb/blob/main/_DTSC3020_Midterm_Part2_Programming.ipynb\" target=\"_parent\"><img src=\"https://colab.research.google.com/assets/colab-badge.svg\" alt=\"Open In Colab\"/></a>"
      ]
    },
    {
      "cell_type": "markdown",
      "id": "8e58db4f",
      "metadata": {
        "id": "8e58db4f"
      },
      "source": [
        "# DTSC 3020 — Midterm Exam (Part 2: Programming)\n",
        "University of North Texas\n",
        "\n",
        "**Course:** Introduction to Computation with Python (DTSC 3020)  \n",
        "**Exam:** Midterm — Programming (Ch. 1–8 concepts)\n",
        "\n"
      ]
    },
    {
      "cell_type": "markdown",
      "source": [],
      "metadata": {
        "id": "gjsKdqZ4cWGo"
      },
      "id": "gjsKdqZ4cWGo"
    },
    {
      "cell_type": "markdown",
      "id": "ed86aaec",
      "metadata": {
        "id": "ed86aaec"
      },
      "source": [
        "---\n",
        "### Instructions\n",
        "- Write clean, readable Python code for each question.\n",
        "- Use only standard Python; no external libraries.\n",
        "- Where required, write a function and return the result.\n",
        "- After each solution cell, there is a **Part 2 — Test Scenario**. Follow the prompt to run your code.\n",
        "\n",
        "---"
      ]
    },
    {
      "cell_type": "markdown",
      "id": "227c4435",
      "metadata": {
        "id": "227c4435"
      },
      "source": [
        "## Question 1 — Create Member ID\n",
        "Write a Python function `create_member_id(full_name)` that creates a Library Member ID from a person’s full name.\n",
        "\n",
        "**Rules**\n",
        "- Normalize the name: remove extra spaces, convert to lowercase, and split by spaces.\n",
        "- Use the last word as the last name (e.g., `\"John Ronald Reuel Tolkien\"` → last name `tolkien`).\n",
        "- Use the first letters of all earlier words as initials (e.g., `jrr` for the example above).\n",
        "- Construct the member ID in this exact format: `lastname_initials` (underscore between them; no spaces).\n",
        "\n",
        "**Examples**\n",
        "- `\"Sara Amini\"` → `amini_sa`\n",
        "- `\"Mary Jane Watson\"` → `watson_mj`\n",
        "- `\"LINA\"` (single word) → use the word for both parts: `lina_l`\n",
        "\n",
        "Part 2 — Test Scenario (run using your function)\n",
        "names = [\"Sara Amini\", \"Ali\", \"Mary Jane\", \"John Smith\", \"LINA\", \"madonna\", \"sara amini\"]\n",
        "\n",
        "\n",
        "\n"
      ]
    },
    {
      "cell_type": "code",
      "execution_count": 30,
      "id": "51411a35",
      "metadata": {
        "id": "51411a35",
        "colab": {
          "base_uri": "https://localhost:8080/"
        },
        "outputId": "2c31448d-632c-4e3a-c91b-bd2ac2ff4327"
      },
      "outputs": [
        {
          "output_type": "stream",
          "name": "stdout",
          "text": [
            "Sara Amini → amini_s\n",
            "Ali → ali_a\n",
            "Mary Jane → jane_m\n",
            "John Smith → smith_j\n",
            "LINA → lina_l\n",
            "madonna → madonna_m\n",
            "sara amini → amini_s\n"
          ]
        }
      ],
      "source": [
        "def create_member_id(full_name):\n",
        "    # Normalize the name: remove extra spaces, lowercase, and split\n",
        "    name = full_name.strip().lower()\n",
        "    parts = name.split()\n",
        "\n",
        "    # Handle single-word names\n",
        "    if len(parts) == 1:\n",
        "        word = parts[0]\n",
        "        return f\"{word}_{word[0]}\"\n",
        "\n",
        "    # Extract last name and initials\n",
        "    last_name = parts[-1]\n",
        "    initials = ''.join(word[0] for word in parts[:-1])\n",
        "\n",
        "    # Construct member ID\n",
        "    return f\"{last_name}_{initials}\"\n",
        "\n",
        "\n",
        "# Part 2 — Test Scenario\n",
        "names = [\"Sara Amini\", \"Ali\", \"Mary Jane\", \"John Smith\", \"LINA\", \"madonna\", \"sara amini\"]\n",
        "\n",
        "for n in names:\n",
        "    print(f\"{n} → {create_member_id(n)}\")\n"
      ]
    },
    {
      "cell_type": "code",
      "execution_count": null,
      "id": "584ae4f0",
      "metadata": {
        "id": "584ae4f0"
      },
      "outputs": [],
      "source": [
        "# Part 2 — Test Scenario (run using your function)\n",
        "\n"
      ]
    },
    {
      "cell_type": "markdown",
      "id": "c1727720",
      "metadata": {
        "id": "c1727720"
      },
      "source": [
        "## Question 2 — Movie Ticket Booth\n",
        "\n",
        "Write a Python program that simulates a movie ticket booth using this price list:\n",
        "\n",
        "```python\n",
        "prices = {\"adult\": 12.5, \"child\": 8, \"senior\": 9.5, \"student\": 10}\n",
        "```\n",
        "\n",
        "**Program Requirements**\n",
        "- Repeatedly ask the user to enter a ticket type or type `done` to finish.\n",
        "- Valid inputs: `adult`, `child`, `senior`, `student`, or `done`.\n",
        "- If the ticket type exists, add its price to a running total and print a confirmation message.\n",
        "- If it doesn’t exist, print `\"Invalid ticket type\"`.\n",
        "- When the user types `done`, stop and show:\n",
        "  - **Subtotal** (sum of valid ticket prices)\n",
        "  - **Tax** = 8% of subtotal\n",
        "  - **Final total** = subtotal + tax\n"
      ]
    },
    {
      "cell_type": "code",
      "source": [
        "du"
      ],
      "metadata": {
        "id": "qcsxQSdvda3n"
      },
      "id": "qcsxQSdvda3n",
      "execution_count": null,
      "outputs": []
    },
    {
      "cell_type": "code",
      "execution_count": 14,
      "id": "4b859e17",
      "metadata": {
        "id": "4b859e17",
        "colab": {
          "base_uri": "https://localhost:8080/"
        },
        "outputId": "92c73ed4-4112-4463-ce4e-34e771afe159"
      },
      "outputs": [
        {
          "output_type": "stream",
          "name": "stdout",
          "text": [
            "Enter ticket type (adult/child/senior/student) or 'done' to finish: adult\n",
            "Added adult, running total: $12.50\n",
            "Enter ticket type (adult/child/senior/student) or 'done' to finish: child\n",
            "Added child, running total: $20.50\n",
            "Enter ticket type (adult/child/senior/student) or 'done' to finish: student\n",
            "Added student, running total: $30.50\n",
            "Enter ticket type (adult/child/senior/student) or 'done' to finish: done\n",
            "Subtotal: $30.50\n",
            "Tax (8%): $2.44\n",
            "Final total: $32.94\n"
          ]
        }
      ],
      "source": [
        "# Q2 — Movie Ticket Booth\n",
        "prices = {\"adult\": 12.5, \"child\": 8, \"senior\": 9.5, \"student\": 10}\n",
        "\n",
        "subtotal = 0.0\n",
        "while True:\n",
        "    entry = input(\"Enter ticket type (adult/child/senior/student) or 'done' to finish: \").strip().lower()\n",
        "    if entry == \"done\":\n",
        "        break\n",
        "    if entry in prices:\n",
        "        subtotal += prices[entry]\n",
        "        print(f\"Added {entry}, running total: ${subtotal:.2f}\")\n",
        "    else:\n",
        "        print(\"Invalid ticket type\")\n",
        "\n",
        "tax = 0.08 * subtotal\n",
        "final_total = subtotal + tax\n",
        "print(f\"Subtotal: ${subtotal:.2f}\")\n",
        "print(f\"Tax (8%): ${tax:.2f}\")\n",
        "print(f\"Final total: ${final_total:.2f}\")\n",
        "\n"
      ]
    },
    {
      "cell_type": "markdown",
      "id": "17b39afe",
      "metadata": {
        "id": "17b39afe"
      },
      "source": [
        "**Part 2 — Example Scenario**\n",
        "When prompted, type the following (each on a new line), then press Enter after each entry:\n",
        "\n",
        "```\n",
        "adult\n",
        "child\n",
        "student\n",
        "done\n",
        "```\n",
        "Your program should complete and display the subtotal, tax, and final total based on these entries.\n"
      ]
    },
    {
      "cell_type": "markdown",
      "id": "28c710b6",
      "metadata": {
        "id": "28c710b6"
      },
      "source": [
        "## Question 3 — Student Grade Analyzer\n",
        "\n",
        "Write a Python function `analyze_grades(grades)` that takes a list of numbers (0–100) and returns three values:\n",
        "1. average grade\n",
        "2. highest grade\n",
        "3. lowest grade\n",
        "\n",
        "**Constraints**\n",
        "- Use a function and return statement(s).\n",
        "- Do not use external libraries.\n"
      ]
    },
    {
      "cell_type": "code",
      "execution_count": 19,
      "id": "efce3052",
      "metadata": {
        "id": "efce3052",
        "colab": {
          "base_uri": "https://localhost:8080/"
        },
        "outputId": "464b7dae-f2eb-4716-dc53-0b30304d9691"
      },
      "outputs": [
        {
          "output_type": "stream",
          "name": "stdout",
          "text": [
            "Average: 85.57\n",
            "Highest: 93\n",
            "Lowest: 72\n"
          ]
        }
      ],
      "source": [
        "def analyze_grades(grades):\n",
        "    # Check if the list is empty\n",
        "    if not grades:\n",
        "        return 0, None, None\n",
        "\n",
        "    average = sum(grades) / len(grades)\n",
        "    highest = max(grades)\n",
        "    lowest = min(grades)\n",
        "\n",
        "    return average, highest, lowest\n",
        "\n",
        "# Sample data\n",
        "sample = [88, 92, 79, 93, 85, 90, 72]\n",
        "\n",
        "# Run the function\n",
        "avg, high, low = analyze_grades(sample)\n",
        "\n",
        "# Display results\n",
        "print(f\"Average: {avg:.2f}\")\n",
        "print(f\"Highest: {high}\")\n",
        "print(f\"Lowest: {low}\")\n",
        "\n",
        "\n",
        "\n"
      ]
    },
    {
      "cell_type": "code",
      "execution_count": null,
      "id": "ad2b0d29",
      "metadata": {
        "id": "ad2b0d29"
      },
      "outputs": [],
      "source": [
        "# Part 2 — Test Scenario\n",
        "sample = [88, 92, 79, 93, 85, 90, 72]\n"
      ]
    },
    {
      "cell_type": "markdown",
      "id": "d378f3c3",
      "metadata": {
        "id": "d378f3c3"
      },
      "source": [
        "## Question 4 — PIN Verification\n",
        "Write a Python program that simulates an ATM PIN verification system.\n",
        "\n",
        "**Requirements**\n",
        "- The correct PIN is `4321`.\n",
        "- The user has at most **3 attempts** to enter the correct PIN.\n",
        "- If the PIN is correct: print `Access granted.` and stop.\n",
        "- If all 3 attempts fail: print `Card blocked.`\n",
        "- After each wrong attempt, also print the counter in the form `Wrong (x/3)`.\n"
      ]
    },
    {
      "cell_type": "code",
      "execution_count": 16,
      "id": "5ea085a2",
      "metadata": {
        "id": "5ea085a2",
        "colab": {
          "base_uri": "https://localhost:8080/"
        },
        "outputId": "316d7ff2-3bac-4d7e-e346-15d562cfd787"
      },
      "outputs": [
        {
          "output_type": "stream",
          "name": "stdout",
          "text": [
            "Enter PIN: 1111\n",
            "Wrong (1/3)\n",
            "Enter PIN: 2222\n",
            "Wrong (2/3)\n",
            "Enter PIN: 4321\n",
            "Access granted.\n"
          ]
        }
      ],
      "source": [
        "# Q4 — PIN Verification\n",
        "CORRECT_PIN = \"4321\"\n",
        "max_attempts = 3\n",
        "\n",
        "for attempt in range(1, max_attempts + 1):\n",
        "    pin = input(\"Enter PIN: \").strip()\n",
        "    if pin == CORRECT_PIN:\n",
        "        print(\"Access granted.\")\n",
        "        break\n",
        "    else:\n",
        "        print(f\"Wrong ({attempt}/{max_attempts})\")\n",
        "        if attempt == max_attempts:\n",
        "            print(\"Card blocked.\")\n",
        "\n",
        "\n"
      ]
    },
    {
      "cell_type": "markdown",
      "id": "1c61e343",
      "metadata": {
        "id": "1c61e343"
      },
      "source": [
        "**Part 2 — Test Scenario**\n",
        "Run your program and, when prompted, enter these sequences to verify both behaviors:\n",
        "\n",
        "**Scenario A**\n",
        "```\n",
        "1111\n",
        "2222\n",
        "4321\n",
        "```\n",
        "\n",
        "\n"
      ]
    }
  ],
  "metadata": {
    "kernelspec": {
      "display_name": "Python 3",
      "language": "python",
      "name": "python3"
    },
    "language_info": {
      "name": "python",
      "version": "3.x"
    },
    "colab": {
      "provenance": [],
      "include_colab_link": true
    }
  },
  "nbformat": 4,
  "nbformat_minor": 5
}